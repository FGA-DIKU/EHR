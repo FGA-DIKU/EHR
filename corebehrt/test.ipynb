{
 "cells": [
  {
   "cell_type": "code",
   "execution_count": 1,
   "metadata": {},
   "outputs": [],
   "source": [
    "import pandas as pd"
   ]
  },
  {
   "cell_type": "code",
   "execution_count": 2,
   "metadata": {},
   "outputs": [
    {
     "name": "stdout",
     "output_type": "stream",
     "text": [
      "b    2\n",
      "c    3\n",
      "d    0\n",
      "dtype: int64\n"
     ]
    }
   ],
   "source": [
    "import pandas as pd\n",
    "\n",
    "# Create a sample Series\n",
    "s = pd.Series([1, 2, 3], index=['a', 'b', 'c'])\n",
    "\n",
    "# Define new index\n",
    "new_index = ['b', 'c', 'd']\n",
    "\n",
    "# Reindex the Series\n",
    "reindexed_s = s.reindex(new_index, fill_value=0)\n",
    "\n",
    "print(reindexed_s)"
   ]
  },
  {
   "cell_type": "code",
   "execution_count": 13,
   "metadata": {},
   "outputs": [],
   "source": [
    "df = pd.read_csv('../example_data/concept.diagnose.csv',)\n",
    "df.CONCEPT = df.CONCEPT.astype(str)"
   ]
  },
  {
   "cell_type": "code",
   "execution_count": 8,
   "metadata": {},
   "outputs": [
    {
     "data": {
      "text/plain": [
       "CONCEPT\n",
       "314529007    9414\n",
       "73595000     3019\n",
       "160903007    2950\n",
       "160904001    1353\n",
       "422650009     812\n",
       "423315002     779\n",
       "741062008     752\n",
       "444814009     591\n",
       "706893006     561\n",
       "424393004     369\n",
       "195662009     357\n",
       "10509002      285\n",
       "162864005     280\n",
       "72892002      274\n",
       "224299000     256\n",
       "73438004      240\n",
       "15777000      233\n",
       "271737000     221\n",
       "160968000     220\n",
       "59621000      218\n",
       "Name: count, dtype: int64"
      ]
     },
     "execution_count": 8,
     "metadata": {},
     "output_type": "execute_result"
    }
   ],
   "source": [
    "df.CONCEPT.value_counts()[:20]"
   ]
  },
  {
   "cell_type": "code",
   "execution_count": 14,
   "metadata": {},
   "outputs": [
    {
     "data": {
      "text/plain": [
       "CONCEPT\n",
       "314529007        565\n",
       "160903007        461\n",
       "73595000         461\n",
       "160904001        370\n",
       "444814009        355\n",
       "422650009        323\n",
       "423315002        317\n",
       "741062008        282\n",
       "162864005        280\n",
       "706893006        269\n",
       "224299000        256\n",
       "195662009        252\n",
       "15777000         233\n",
       "10509002         231\n",
       "271737000        221\n",
       "59621000         218\n",
       "424393004        214\n",
       "73438004         184\n",
       "160968000        159\n",
       "5251000175109    153\n",
       "Name: PID, dtype: int64"
      ]
     },
     "execution_count": 14,
     "metadata": {},
     "output_type": "execute_result"
    }
   ],
   "source": [
    "# get the patient count for each concept\n",
    "df.groupby('CONCEPT').PID.nunique().sort_values(ascending=False)[:20]"
   ]
  },
  {
   "cell_type": "code",
   "execution_count": 16,
   "metadata": {},
   "outputs": [
    {
     "data": {
      "text/plain": [
       "CONCEPT\n",
       "15777000           233\n",
       "157141000119108     58\n",
       "15724005             3\n",
       "Name: count, dtype: int64"
      ]
     },
     "execution_count": 16,
     "metadata": {},
     "output_type": "execute_result"
    }
   ],
   "source": [
    "df[df.CONCEPT.str.startswith('157')].value_counts('CONCEPT')"
   ]
  },
  {
   "cell_type": "code",
   "execution_count": 3,
   "metadata": {},
   "outputs": [],
   "source": [
    "import torch\n",
    "import pandas as pd"
   ]
  },
  {
   "cell_type": "code",
   "execution_count": 16,
   "metadata": {},
   "outputs": [
    {
     "data": {
      "text/plain": [
       "array([ 1.,  1.,  2.,  2., nan, nan])"
      ]
     },
     "execution_count": 16,
     "metadata": {},
     "output_type": "execute_result"
    }
   ],
   "source": [
    "df = pd.DataFrame({'pid':[1,1,2,2,3,3,],\n",
    "      'concept':['157','157','157','157','157','157'],\n",
    "      'value':[1,2,3,4,5,6,]})\n",
    "timestamps = pd.Series( [1,2,3],index=[1, 2, 4])\n",
    "reindexed = timestamps.reindex(df['pid']).values\n",
    "reindexed"
   ]
  },
  {
   "cell_type": "code",
   "execution_count": 18,
   "metadata": {},
   "outputs": [
    {
     "data": {
      "text/html": [
       "<div>\n",
       "<style scoped>\n",
       "    .dataframe tbody tr th:only-of-type {\n",
       "        vertical-align: middle;\n",
       "    }\n",
       "\n",
       "    .dataframe tbody tr th {\n",
       "        vertical-align: top;\n",
       "    }\n",
       "\n",
       "    .dataframe thead th {\n",
       "        text-align: right;\n",
       "    }\n",
       "</style>\n",
       "<table border=\"1\" class=\"dataframe\">\n",
       "  <thead>\n",
       "    <tr style=\"text-align: right;\">\n",
       "      <th></th>\n",
       "      <th>concept</th>\n",
       "      <th>value</th>\n",
       "    </tr>\n",
       "    <tr>\n",
       "      <th>pid</th>\n",
       "      <th></th>\n",
       "      <th></th>\n",
       "    </tr>\n",
       "  </thead>\n",
       "  <tbody>\n",
       "    <tr>\n",
       "      <th>1</th>\n",
       "      <td>2</td>\n",
       "      <td>2</td>\n",
       "    </tr>\n",
       "    <tr>\n",
       "      <th>2</th>\n",
       "      <td>2</td>\n",
       "      <td>2</td>\n",
       "    </tr>\n",
       "    <tr>\n",
       "      <th>3</th>\n",
       "      <td>2</td>\n",
       "      <td>2</td>\n",
       "    </tr>\n",
       "  </tbody>\n",
       "</table>\n",
       "</div>"
      ],
      "text/plain": [
       "     concept  value\n",
       "pid                \n",
       "1          2      2\n",
       "2          2      2\n",
       "3          2      2"
      ]
     },
     "execution_count": 18,
     "metadata": {},
     "output_type": "execute_result"
    }
   ],
   "source": [
    "df.groupby('pid').count()"
   ]
  },
  {
   "cell_type": "code",
   "execution_count": 32,
   "metadata": {},
   "outputs": [
    {
     "name": "stdout",
     "output_type": "stream",
     "text": [
      "0.4328739643096924\n",
      "2.2500462532043457\n"
     ]
    }
   ],
   "source": [
    "import numpy as np\n",
    "df = pd.DataFrame({'pid':np.random.randint(0,1000,10000000),\n",
    "      'concept':np.random.randint(0,1000,10000000),\n",
    "      'value':np.random.randint(0,1000,10000000),})\n",
    "\n",
    "import time\n",
    "start = time.time()\n",
    "df.groupby('pid').transform('count')\n",
    "print(time.time() - start)\n",
    "\n",
    "start = time.time()\n",
    "df.groupby('pid').filter(lambda x: len(x) > 1000)\n",
    "print(time.time() - start)"
   ]
  },
  {
   "cell_type": "code",
   "execution_count": 10,
   "metadata": {},
   "outputs": [
    {
     "data": {
      "text/plain": [
       "array([ True,  True,  True,  True,  True,  True, False, False, False])"
      ]
     },
     "execution_count": 10,
     "metadata": {},
     "output_type": "execute_result"
    }
   ],
   "source": [
    "pd.notna(reindexed)"
   ]
  }
 ],
 "metadata": {
  "kernelspec": {
   "display_name": "patbert",
   "language": "python",
   "name": "python3"
  },
  "language_info": {
   "codemirror_mode": {
    "name": "ipython",
    "version": 3
   },
   "file_extension": ".py",
   "mimetype": "text/x-python",
   "name": "python",
   "nbconvert_exporter": "python",
   "pygments_lexer": "ipython3",
   "version": "3.10.14"
  }
 },
 "nbformat": 4,
 "nbformat_minor": 2
}
